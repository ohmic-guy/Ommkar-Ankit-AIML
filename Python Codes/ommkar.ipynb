{
 "cells": [
  {
   "cell_type": "code",
   "execution_count": 1,
   "id": "868eacdc",
   "metadata": {},
   "outputs": [
    {
     "name": "stdout",
     "output_type": "stream",
     "text": [
      "<re.Match object; span=(0, 17), match='the rain in spain'>\n"
     ]
    }
   ],
   "source": [
    "import re\n",
    "txt = \"the rain in spain\"\n",
    "x=re.search(\"^the.*spain$\",txt)\n",
    "print(x)"
   ]
  },
  {
   "cell_type": "code",
   "execution_count": 3,
   "id": "d1ff1b23",
   "metadata": {},
   "outputs": [
    {
     "name": "stdout",
     "output_type": "stream",
     "text": [
      "['h', 'e', 'a', 'i', 'i', 'a', 'i']\n"
     ]
    }
   ],
   "source": [
    "import re\n",
    "txt = \"the rain in spain\"\n",
    "x=re.findall(\"[a-m]\",txt)\n",
    "print(x)"
   ]
  },
  {
   "cell_type": "code",
   "execution_count": 4,
   "id": "f6ddbff6",
   "metadata": {},
   "outputs": [
    {
     "name": "stdout",
     "output_type": "stream",
     "text": [
      "['5', '5', '6']\n"
     ]
    }
   ],
   "source": [
    "import re\n",
    "txt = \"the rain in 556  spain\"\n",
    "x=re.findall(\"\\d\",txt)\n",
    "print(x)\n"
   ]
  },
  {
   "cell_type": "code",
   "execution_count": 6,
   "id": "5a459a5c",
   "metadata": {},
   "outputs": [
    {
     "name": "stdout",
     "output_type": "stream",
     "text": [
      "['the rain in 556  s']\n"
     ]
    }
   ],
   "source": [
    "import re\n",
    "txt = \"the rain in 556  spain\"\n",
    "x=re.findall(\"th.*s\",txt)\n",
    "print(x)"
   ]
  },
  {
   "cell_type": "code",
   "execution_count": 7,
   "id": "301edb52",
   "metadata": {},
   "outputs": [
    {
     "name": "stdout",
     "output_type": "stream",
     "text": [
      "['the rain in 556  spain']\n"
     ]
    }
   ],
   "source": [
    "import re\n",
    "txt = \"the rain in 556  spain\"\n",
    "x=re.findall(\"^t.*n$\",txt)\n",
    "print(x)"
   ]
  },
  {
   "cell_type": "code",
   "execution_count": 8,
   "id": "683d45cb",
   "metadata": {},
   "outputs": [
    {
     "name": "stdout",
     "output_type": "stream",
     "text": [
      "['the']\n"
     ]
    }
   ],
   "source": [
    "import re\n",
    "txt = \"the rain in 556  spain\"\n",
    "x=re.findall(\"t.+e\",txt)\n",
    "print(x)\n",
    "#(+)sign is use to find the one or more charactrer in between two instucted words"
   ]
  },
  {
   "cell_type": "code",
   "execution_count": 9,
   "id": "915bde61",
   "metadata": {},
   "outputs": [
    {
     "name": "stdout",
     "output_type": "stream",
     "text": [
      "['the']\n"
     ]
    }
   ],
   "source": [
    "import re\n",
    "txt = \"the rain in 556  spain\"\n",
    "x=re.findall(\"t.?e\",txt)\n",
    "print(x)\n",
    "#(?)sign is use to find only one charactrer in between two instucted words"
   ]
  },
  {
   "cell_type": "code",
   "execution_count": 23,
   "id": "87fdf09e",
   "metadata": {},
   "outputs": [
    {
     "name": "stdout",
     "output_type": "stream",
     "text": [
      "['the rain in 556  s']\n"
     ]
    }
   ],
   "source": [
    "import re\n",
    "txt = \"the rain in 556  spain\"\n",
    "x=re.findall(\"th.*s\",txt)\n",
    "print(x)"
   ]
  },
  {
   "cell_type": "code",
   "execution_count": 11,
   "id": "38c579f2",
   "metadata": {},
   "outputs": [
    {
     "name": "stdout",
     "output_type": "stream",
     "text": [
      "hi\n"
     ]
    }
   ],
   "source": [
    "import re\n",
    "hi=re.match(r'hi','hi hello world')\n",
    "print(hi.group())\n"
   ]
  },
  {
   "cell_type": "code",
   "execution_count": 12,
   "id": "2c385b39",
   "metadata": {},
   "outputs": [
    {
     "name": "stdout",
     "output_type": "stream",
     "text": [
      "['falls', 'main', 'plane']\n",
      "match is there\n"
     ]
    }
   ],
   "source": [
    "import re\n",
    "txt = \"the rain in spain falls mainly in the plane\"\n",
    "x=re.findall(\"falls|main|hi|plane\",txt)\n",
    "print(x)\n",
    "\n",
    "if x :\n",
    "    print(\"match is there\")\n",
    "else :\n",
    "    print(\"not found\")"
   ]
  },
  {
   "cell_type": "code",
   "execution_count": 13,
   "id": "803d11e5",
   "metadata": {},
   "outputs": [
    {
     "name": "stdout",
     "output_type": "stream",
     "text": [
      "['the']\n",
      "found\n"
     ]
    }
   ],
   "source": [
    "import re\n",
    "txt = \"the rain in 556  spain\"\n",
    "x=re.findall(r\"\\bthe\",txt)\n",
    "print(x)\n",
    "if x :\n",
    "    print(\"found\")\n",
    "else :\n",
    "    print(\"not found\")"
   ]
  },
  {
   "cell_type": "code",
   "execution_count": 14,
   "id": "2d552eda",
   "metadata": {},
   "outputs": [
    {
     "name": "stdout",
     "output_type": "stream",
     "text": [
      "[]\n",
      "not found\n"
     ]
    }
   ],
   "source": [
    "import re\n",
    "txt = \"the rain in 556  spain\"\n",
    "x=re.findall(r\"the/b\",txt)\n",
    "print(x)\n",
    "if x :\n",
    "    print(\"found\")\n",
    "else :\n",
    "    print(\"not found\")"
   ]
  },
  {
   "cell_type": "code",
   "execution_count": 15,
   "id": "ac0b0ded",
   "metadata": {},
   "outputs": [
    {
     "name": "stdout",
     "output_type": "stream",
     "text": [
      "['ain', 'ain']\n",
      "found\n"
     ]
    }
   ],
   "source": [
    "import re\n",
    "txt = \"the rain in 556  spain\"\n",
    "x=re.findall(r\"\\Bain\",txt)\n",
    "print(x)\n",
    "if x :\n",
    "    print(\"found\")\n",
    "else :\n",
    "    print(\" not found\")"
   ]
  },
  {
   "cell_type": "code",
   "execution_count": 16,
   "id": "313be614",
   "metadata": {},
   "outputs": [
    {
     "name": "stdout",
     "output_type": "stream",
     "text": [
      "['i', 'i', 'i']\n",
      "found\n"
     ]
    }
   ],
   "source": [
    "import re\n",
    "txt = \"the rain in 556  spain\"\n",
    "x=re.findall(r\"i\\B\",txt)\n",
    "print(x)\n",
    "if x :\n",
    "    print(\"found\")\n",
    "else :\n",
    "    print(\"not found\")"
   ]
  },
  {
   "cell_type": "code",
   "execution_count": 17,
   "id": "c9c6e049",
   "metadata": {},
   "outputs": [
    {
     "name": "stdout",
     "output_type": "stream",
     "text": [
      "['t', 'h', 'e', 'r', 'a', 'i', 'n', 'i', 'n', '5', '5', '6', 's', 'p', 'a', 'i', 'n']\n",
      "found\n"
     ]
    }
   ],
   "source": [
    "import re\n",
    "txt = \"the rain in 556  spain\"\n",
    "x=re.findall(\"\\w\",txt)\n",
    "print(x)\n",
    "if x :\n",
    "    print(\"found\")\n",
    "else :\n",
    "    print(\"not found\")"
   ]
  },
  {
   "cell_type": "code",
   "execution_count": 18,
   "id": "247f69e3",
   "metadata": {},
   "outputs": [
    {
     "name": "stdout",
     "output_type": "stream",
     "text": [
      "[' ', ' ', ' ', ' ', '(', ')', '&', '^', ' ', '*']\n",
      "found\n"
     ]
    }
   ],
   "source": [
    "import re\n",
    "txt = \"the rain in 556 ()&^ spai*n\"\n",
    "x=re.findall(\"\\W\",txt)\n",
    "print(x)\n",
    "if x :\n",
    "    print(\"found\")\n",
    "else :\n",
    "    print(\"not found\")"
   ]
  },
  {
   "cell_type": "code",
   "execution_count": 19,
   "id": "f0db70e0",
   "metadata": {},
   "outputs": [
    {
     "name": "stdout",
     "output_type": "stream",
     "text": [
      "[' ', ' ', ' ', ' ', ' ']\n",
      "found\n"
     ]
    }
   ],
   "source": [
    "import re\n",
    "txt = \"the rain in 556  spain\"\n",
    "x=re.findall(\"\\s\",txt)\n",
    "print(x)\n",
    "if x :\n",
    "    print(\"found\")\n",
    "else :\n",
    "    print(\"not found\")"
   ]
  },
  {
   "cell_type": "code",
   "execution_count": 24,
   "id": "0b8261f4",
   "metadata": {},
   "outputs": [
    {
     "name": "stdout",
     "output_type": "stream",
     "text": [
      "['t', 'h', 'e', 'r', 'a', 'i', 'n', 'i', 'n', '5', '5', '6', 's', 'p', 'a', 'i', 'n']\n",
      "found\n"
     ]
    }
   ],
   "source": [
    "import re\n",
    "txt = \"the rain in 556  spain\"\n",
    "x=re.findall(\"\\S\",txt)\n",
    "print(x)\n",
    "if x :\n",
    "    print(\"found\")\n",
    "else :\n",
    "    print(\"not found\")"
   ]
  },
  {
   "cell_type": "code",
   "execution_count": 25,
   "id": "b0afdc65",
   "metadata": {},
   "outputs": [
    {
     "name": "stdout",
     "output_type": "stream",
     "text": [
      "['']\n",
      "found\n"
     ]
    }
   ],
   "source": [
    "import re\n",
    "txt = \"the rain in 556 spain\"\n",
    "x=re.findall(\"\\Z\",txt)\n",
    "print(x)\n",
    "if x :\n",
    "    print(\"found\")\n",
    "else :\n",
    "    print(\"not found\")"
   ]
  },
  {
   "cell_type": "code",
   "execution_count": 26,
   "id": "730df6ef",
   "metadata": {},
   "outputs": [
    {
     "name": "stdout",
     "output_type": "stream",
     "text": [
      "['pain']\n",
      "found\n"
     ]
    }
   ],
   "source": [
    "import re\n",
    "txt = \"the rain in 556  spain\"\n",
    "x=re.findall(\"pain\\Z\",txt)\n",
    "print(x)\n",
    "if x :\n",
    "    print(\"found\")\n",
    "else :\n",
    "    print(\"not found\")"
   ]
  },
  {
   "cell_type": "code",
   "execution_count": null,
   "id": "cc660de2",
   "metadata": {},
   "outputs": [],
   "source": []
  },
  {
   "cell_type": "code",
   "execution_count": null,
   "id": "72b3cca7",
   "metadata": {},
   "outputs": [],
   "source": [
    "\n"
   ]
  }
 ],
 "metadata": {
  "kernelspec": {
   "display_name": "Python 3 (ipykernel)",
   "language": "python",
   "name": "python3"
  },
  "language_info": {
   "codemirror_mode": {
    "name": "ipython",
    "version": 3
   },
   "file_extension": ".py",
   "mimetype": "text/x-python",
   "name": "python",
   "nbconvert_exporter": "python",
   "pygments_lexer": "ipython3",
   "version": "3.9.12"
  }
 },
 "nbformat": 4,
 "nbformat_minor": 5
}
